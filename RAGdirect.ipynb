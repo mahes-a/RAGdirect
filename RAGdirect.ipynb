{
 "cells": [
  {
   "cell_type": "code",
   "execution_count": null,
   "metadata": {},
   "outputs": [],
   "source": [
    "#pip install -r requirements.txt"
   ]
  },
  {
   "cell_type": "code",
   "execution_count": null,
   "metadata": {},
   "outputs": [],
   "source": [
    "import openai, os, requests\n",
    "from dotenv import load_dotenv  \n",
    "\n",
    "# Configure environment variables  \n",
    "load_dotenv()"
   ]
  },
  {
   "cell_type": "code",
   "execution_count": null,
   "metadata": {},
   "outputs": [],
   "source": [
    "openai.api_type = \"azure\"\n",
    "# Azure OpenAI on your own data is only supported by the 2023-08-01-preview API version\n",
    "openai.api_version =  os.getenv('AZURE_OPENAI_API_VERSION')\n",
    "\n",
    "# Azure OpenAI setup\n",
    "openai.api_base = os.getenv('AZURE_OPENAI_ENDPOINT') # Add your endpoint here\n",
    "openai.api_key = os.getenv(\"OPENAI_API_KEY\") # Add your OpenAI API key here\n",
    "deployment_id = os.getenv('AZURE_OPENAI_DEPLOYMENT_NAME')  # Add your deployment ID here\n",
    "\n",
    "# Azure AI Search setup\n",
    "\n",
    "\n",
    "def setup_byod(deployment_id: str) -> None:\n",
    "    \"\"\"Sets up the OpenAI Python SDK to use your own data for the chat endpoint.\n",
    "\n",
    "    :param deployment_id: The deployment ID for the model to use with your own data.\n",
    "\n",
    "    To remove this configuration, simply set openai.requestssession to None.\n",
    "    \"\"\"\n",
    "\n",
    "    class BringYourOwnDataAdapter(requests.adapters.HTTPAdapter):\n",
    "\n",
    "        def send(self, request, **kwargs):\n",
    "            request.url = f\"{openai.api_base}/openai/deployments/{deployment_id}/extensions/chat/completions?api-version={openai.api_version}\"\n",
    "            return super().send(request, **kwargs)\n",
    "\n",
    "    session = requests.Session()\n",
    "\n",
    "    # Mount a custom adapter which will use the extensions endpoint for any call using the given `deployment_id`\n",
    "    session.mount(\n",
    "        prefix=f\"{openai.api_base}/openai/deployments/{deployment_id}\",\n",
    "        adapter=BringYourOwnDataAdapter()\n",
    "    )\n",
    "\n",
    "    openai.requestssession = session\n",
    "\n",
    "setup_byod(deployment_id)"
   ]
  },
  {
   "cell_type": "code",
   "execution_count": null,
   "metadata": {},
   "outputs": [],
   "source": [
    "\n",
    "\n",
    "\n",
    "message_text = [{\"role\": \"user\", \"content\": \"What are the differences between Lakehouse vs warehouse add headings and subheadings?\"}]\n",
    "\n",
    "completion = openai.ChatCompletion.create(\n",
    "    messages=message_text,\n",
    "    deployment_id=deployment_id,\n",
    "    dataSources=[  # camelCase is intentional, as this is the format the API expects\n",
    "      {\n",
    "  \"type\": \"AzureCognitiveSearch\",\n",
    "  \"parameters\": {\n",
    "                \"endpoint\": os.getenv(\"AZURE_SEARCH_ENDPOINT\"),\n",
    "                \"key\": os.getenv(\"SEARCH_KEY\"),\n",
    "                \"indexName\":os.getenv(\"AZURE_SEARCH_INDEX_NAME\"),\n",
    "                \"api-version\": os.getenv(\"AZURE_SEARCH_API_VERSION\"),\n",
    "                \"semanticConfiguration\": \"my-semantic-config\",\n",
    "                \"queryType\": \"vectorSemanticHybrid\",\n",
    "                \"fieldsMapping\": {\n",
    "                \"contentFieldsSeparator\": \"\\n\",\n",
    "                \"contentFields\": [\n",
    "                    \"chunk\"\n",
    "                ],\n",
    "                \"filepathField\": \"name\",\n",
    "                \"urlField\": \"location\",\n",
    "                \"vectorFields\": [\n",
    "                    \"chunkVector\"\n",
    "                ]\n",
    "                },\n",
    "                \"inScope\": True,\n",
    "                \"roleInformation\": \"You are an AI assistant that helps people find information.\",\n",
    "                \"filter\": None,\n",
    "                \"strictness\": 3,\n",
    "                \"topNDocuments\": 5,\n",
    "                \"embeddingDeploymentName\": \"text-embedding-ada-002\"\n",
    "  }\n",
    "}\n",
    "    ],\n",
    "    enhancements=None,\n",
    "    temperature=0,\n",
    "    top_p=1,\n",
    "    max_tokens=800,\n",
    "    stop=None\n",
    "\n",
    ")\n",
    "print(completion)"
   ]
  }
 ],
 "metadata": {
  "kernelspec": {
   "display_name": "Python 3",
   "language": "python",
   "name": "python3"
  },
  "language_info": {
   "codemirror_mode": {
    "name": "ipython",
    "version": 3
   },
   "file_extension": ".py",
   "mimetype": "text/x-python",
   "name": "python",
   "nbconvert_exporter": "python",
   "pygments_lexer": "ipython3",
   "version": "3.9.13"
  }
 },
 "nbformat": 4,
 "nbformat_minor": 2
}
